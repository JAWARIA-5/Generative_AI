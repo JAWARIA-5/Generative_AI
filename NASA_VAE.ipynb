{
  "nbformat": 4,
  "nbformat_minor": 0,
  "metadata": {
    "colab": {
      "provenance": []
    },
    "kernelspec": {
      "name": "python3",
      "display_name": "Python 3"
    },
    "language_info": {
      "name": "python"
    }
  },
  "cells": [
    {
      "cell_type": "code",
      "source": [
        "import numpy as np\n",
        "import pandas as pd\n",
        "from google.colab import drive\n",
        "import os\n",
        "import torch\n",
        "import torch.nn as nn\n",
        "import torch.optim as optim\n",
        "from torch.utils.data import Dataset, DataLoader"
      ],
      "metadata": {
        "id": "xdCW0ty3CYWc"
      },
      "execution_count": 65,
      "outputs": []
    },
    {
      "cell_type": "code",
      "source": [
        "drive.mount('/content/drive')"
      ],
      "metadata": {
        "colab": {
          "base_uri": "https://localhost:8080/"
        },
        "id": "VzU6H0rJCdV8",
        "outputId": "a65b00f7-7e10-4482-d128-12e3efe2a65d"
      },
      "execution_count": 66,
      "outputs": [
        {
          "output_type": "stream",
          "name": "stdout",
          "text": [
            "Drive already mounted at /content/drive; to attempt to forcibly remount, call drive.mount(\"/content/drive\", force_remount=True).\n"
          ]
        }
      ]
    },
    {
      "cell_type": "code",
      "source": [
        "dataset_path = \"/content/drive/My Drive/NASA/\""
      ],
      "metadata": {
        "id": "1Yxbj22u-q57"
      },
      "execution_count": 67,
      "outputs": []
    },
    {
      "cell_type": "code",
      "source": [
        "files = os.listdir(dataset_path)\n",
        "print(files)"
      ],
      "metadata": {
        "colab": {
          "base_uri": "https://localhost:8080/"
        },
        "id": "p0CPyrqZCSSn",
        "outputId": "b96071a3-62de-4c36-b913-6987fa5425b0"
      },
      "execution_count": 68,
      "outputs": [
        {
          "output_type": "stream",
          "name": "stdout",
          "text": [
            "['labeled_anomalies.csv', '.DS_Store', 'data']\n"
          ]
        }
      ]
    },
    {
      "cell_type": "code",
      "source": [
        "csv_path = os.path.join(dataset_path, \"labeled_anomalies.csv\")\n",
        "anomalies_df = pd.read_csv(csv_path)\n",
        "\n",
        "print(anomalies_df.head())"
      ],
      "metadata": {
        "colab": {
          "base_uri": "https://localhost:8080/"
        },
        "id": "wr7-3cBfClCl",
        "outputId": "af6b2088-1afc-4bf7-e3bf-af569a60b17b"
      },
      "execution_count": 69,
      "outputs": [
        {
          "output_type": "stream",
          "name": "stdout",
          "text": [
            "  chan_id spacecraft                           anomaly_sequences  \\\n",
            "0     P-1       SMAP  [[2149, 2349], [4536, 4844], [3539, 3779]]   \n",
            "1     S-1       SMAP                              [[5300, 5747]]   \n",
            "2     E-1       SMAP                [[5000, 5030], [5610, 6086]]   \n",
            "3     E-2       SMAP                              [[5598, 6995]]   \n",
            "4     E-3       SMAP                              [[5094, 8306]]   \n",
            "\n",
            "                                  class  num_values  \n",
            "0  [contextual, contextual, contextual]        8505  \n",
            "1                               [point]        7331  \n",
            "2              [contextual, contextual]        8516  \n",
            "3                               [point]        8532  \n",
            "4                               [point]        8307  \n"
          ]
        }
      ]
    },
    {
      "cell_type": "code",
      "source": [
        "data_path = os.path.join(dataset_path, \"data\")\n",
        "data_files = os.listdir(data_path)\n",
        "print(data_files)\n",
        "\n",
        "train_path = os.path.join(data_path, \"train\")\n",
        "test_path = os.path.join(data_path, \"test\")\n",
        "\n",
        "train_files = os.listdir(train_path)\n",
        "test_files = os.listdir(test_path)\n",
        "\n",
        "print(\"Train files:\", train_files)\n",
        "print(\"Test files:\", test_files)"
      ],
      "metadata": {
        "colab": {
          "base_uri": "https://localhost:8080/"
        },
        "id": "y17XMTK_C4F3",
        "outputId": "ccbe16fa-8018-486f-d8dd-4ac0f2ab0701"
      },
      "execution_count": 70,
      "outputs": [
        {
          "output_type": "stream",
          "name": "stdout",
          "text": [
            "['.DS_Store', '2018-05-19_15.00.10', 'test', 'train']\n",
            "Train files: ['D-15.npy', 'T-5.npy', 'E-4.npy', 'C-2.npy', 'P-4.npy', 'A-6.npy', 'F-1.npy', 'E-1.npy', 'T-2.npy', 'B-1.npy', 'A-2.npy', 'E-5.npy', 'A-9.npy', 'P-1.npy', 'E-8.npy', 'M-1.npy', 'G-7.npy', 'T-10.npy', 'A-1.npy', 'G-3.npy', 'E-3.npy', 'D-12.npy', 'P-15.npy', 'M-6.npy', 'T-4.npy', 'G-2.npy', 'F-4.npy', 'A-4.npy', 'T-9.npy', 'D-5.npy', 'S-1.npy', 'E-10.npy', 'E-2.npy', 'M-5.npy', 'M-2.npy', 'D-2.npy', 'D-16.npy', 'E-7.npy', 'D-3.npy', 'D-11.npy', 'P-2.npy', 'T-3.npy', 'G-4.npy', 'E-12.npy', 'D-8.npy', 'D-4.npy', 'S-2.npy', 'F-5.npy', 'D-6.npy', 'P-7.npy', 'P-14.npy', 'D-1.npy', 'D-7.npy', 'F-3.npy', 'E-11.npy', 'D-13.npy', 'F-2.npy', 'D-14.npy', 'G-1.npy', 'P-3.npy', 'P-10.npy', 'P-11.npy', 'D-9.npy', 'C-1.npy', 'T-8.npy', 'M-7.npy', 'A-8.npy', 'T-13.npy', 'E-13.npy', 'M-4.npy', 'A-3.npy', 'G-6.npy', 'A-5.npy', 'T-1.npy', 'E-9.npy', 'R-1.npy', 'F-8.npy', 'F-7.npy', 'E-6.npy', 'T-12.npy', 'A-7.npy', 'M-3.npy']\n",
            "Test files: ['A-6.npy', 'D-8.npy', 'A-9.npy', 'E-12.npy', 'A-5.npy', 'D-16.npy', 'E-3.npy', 'D-5.npy', 'E-11.npy', 'A-3.npy', 'E-10.npy', 'E-7.npy', 'E-1.npy', 'A-7.npy', 'D-9.npy', 'E-5.npy', 'E-6.npy', 'A-8.npy', 'B-1.npy', 'D-4.npy', 'E-13.npy', 'C-1.npy', 'C-2.npy', 'F-1.npy', 'E-8.npy', 'D-3.npy', 'D-15.npy', 'E-2.npy', 'D-7.npy', 'D-11.npy', 'D-2.npy', 'D-1.npy', 'D-6.npy', 'D-12.npy', 'D-13.npy', 'A-4.npy', 'E-9.npy', 'A-2.npy', 'D-14.npy', 'E-4.npy', 'G-3.npy', 'G-1.npy', 'F-7.npy', 'P-15.npy', 'T-10.npy', 'P-10.npy', 'S-2.npy', 'T-13.npy', 'T-1.npy', 'T-8.npy', 'T-9.npy', 'T-4.npy', 'F-3.npy', 'G-2.npy', 'M-3.npy', 'M-6.npy', 'P-2.npy', 'M-2.npy', 'S-1.npy', 'T-5.npy', 'F-4.npy', 'F-8.npy', 'M-5.npy', 'T-12.npy', 'G-6.npy', 'F-2.npy', 'G-7.npy', 'P-7.npy', 'P-11.npy', 'R-1.npy', 'M-1.npy', 'M-7.npy', 'P-14.npy', 'P-1.npy', 'F-5.npy', 'G-4.npy', 'P-3.npy', 'T-3.npy', 'T-2.npy', 'M-4.npy', 'P-4.npy']\n"
          ]
        }
      ]
    },
    {
      "cell_type": "code",
      "source": [
        "print(data_path)"
      ],
      "metadata": {
        "colab": {
          "base_uri": "https://localhost:8080/"
        },
        "id": "fxSKgF0aEwt7",
        "outputId": "75056d89-dd14-464f-bb1c-d9274d27bcf0"
      },
      "execution_count": 71,
      "outputs": [
        {
          "output_type": "stream",
          "name": "stdout",
          "text": [
            "/content/drive/My Drive/NASA/data\n"
          ]
        }
      ]
    },
    {
      "cell_type": "code",
      "source": [
        "sample_npy = np.load(os.path.join(train_path, train_files[1]), allow_pickle=True)\n",
        "print(\"Data type:\", type(sample_npy))\n",
        "print(\"Shape:\", sample_npy.shape)\n",
        "print(\"First few entries:\", sample_npy[:5])"
      ],
      "metadata": {
        "colab": {
          "base_uri": "https://localhost:8080/"
        },
        "id": "k5LuhzxWDF7B",
        "outputId": "e6f7357d-27d7-47f9-f744-668b06b8a361"
      },
      "execution_count": 8,
      "outputs": [
        {
          "output_type": "stream",
          "name": "stdout",
          "text": [
            "Data type: <class 'numpy.ndarray'>\n",
            "Shape: (2272, 55)\n",
            "First few entries: [[-1.  0.  0.  0.  0.  0.  0.  0.  0.  0.  0.  0.  0.  0.  0.  0.  0.  0.\n",
            "   0.  0.  0.  0.  0.  0.  0.  0.  0.  0.  0.  0.  0.  0.  0.  0.  0.  0.\n",
            "   0.  0.  0.  0.  0.  0.  0.  0.  0.  0.  0.  0.  0.  0.  0.  0.  0.  0.\n",
            "   0.]\n",
            " [-1.  0.  0.  0.  0.  0.  0.  0.  0.  0.  0.  1.  0.  0.  0.  0.  0.  0.\n",
            "   0.  0.  0.  0.  0.  0.  0.  0.  0.  0.  0.  0.  0.  0.  0.  0.  0.  0.\n",
            "   0.  0.  0.  0.  0.  0.  0.  0.  0.  0.  0.  0.  0.  0.  0.  0.  0.  0.\n",
            "   0.]\n",
            " [-1.  0.  0.  0.  0.  0.  0.  0.  0.  0.  0.  0.  0.  0.  0.  0.  0.  0.\n",
            "   0.  0.  0.  0.  0.  0.  0.  0.  0.  0.  0.  0.  0.  0.  0.  0.  0.  0.\n",
            "   0.  0.  0.  0.  0.  0.  0.  0.  0.  0.  0.  0.  0.  0.  0.  0.  0.  0.\n",
            "   0.]\n",
            " [-1.  0.  0.  0.  0.  1.  0.  0.  0.  0.  0.  0.  0.  0.  0.  0.  0.  0.\n",
            "   0.  0.  0.  0.  0.  0.  0.  0.  0.  0.  0.  0.  0.  0.  0.  0.  0.  0.\n",
            "   0.  0.  0.  0.  0.  0.  0.  0.  0.  0.  0.  0.  0.  0.  0.  0.  0.  0.\n",
            "   0.]\n",
            " [-1.  0.  0.  0.  0.  1.  0.  0.  0.  0.  0.  0.  0.  0.  0.  0.  0.  0.\n",
            "   0.  0.  0.  0.  0.  0.  0.  0.  0.  0.  0.  0.  0.  0.  0.  0.  0.  0.\n",
            "   0.  0.  0.  0.  0.  0.  0.  0.  0.  0.  0.  0.  0.  0.  0.  0.  0.  0.\n",
            "   0.]]\n"
          ]
        }
      ]
    },
    {
      "cell_type": "code",
      "source": [
        "import matplotlib.pyplot as plt\n",
        "\n",
        "plt.figure(figsize=(10, 5))\n",
        "plt.plot(sample_npy[:100])\n",
        "plt.title(\"Sample Telemetry Data\")\n",
        "plt.xlabel(\"Time\")\n",
        "plt.ylabel(\"Telemetry Value\")\n",
        "plt.show()"
      ],
      "metadata": {
        "colab": {
          "base_uri": "https://localhost:8080/",
          "height": 481
        },
        "id": "FX1m60scFh2b",
        "outputId": "a49b79a0-5365-430a-8614-d369cca43cc8"
      },
      "execution_count": null,
      "outputs": [
        {
          "output_type": "display_data",
          "data": {
            "text/plain": [
              "<Figure size 1000x500 with 1 Axes>"
            ],
            "image/png": "[encoded data removed]"
          },
          "metadata": {}
        }
      ]
    },
    {
      "cell_type": "code",
      "source": [
        "sample_npy = np.load(os.path.join(train_path, train_files[41]), allow_pickle=True)\n",
        "print(sample_npy.shape)"
      ],
      "metadata": {
        "colab": {
          "base_uri": "https://localhost:8080/"
        },
        "id": "7wYo7vvQFsQR",
        "outputId": "2dc25f60-d4d5-475b-b3c6-9a2d5272cabe"
      },
      "execution_count": 17,
      "outputs": [
        {
          "output_type": "stream",
          "name": "stdout",
          "text": [
            "(2876, 25)\n"
          ]
        }
      ]
    },
    {
      "cell_type": "code",
      "source": [
        "def load_nasa_data():\n",
        "\n",
        "    tdata = []\n",
        "    for file in train_files:\n",
        "        file_path = os.path.join(data_path, \"train\", file)\n",
        "        data = np.load(file_path)\n",
        "        if data.shape[1] == 25:\n",
        "            tdata.append(data)\n",
        "    tdata = np.vstack(tdata)\n",
        "\n",
        "    testdata = []\n",
        "    for file in test_files:\n",
        "        file_path = os.path.join(data_path, \"test\", file)\n",
        "        data = np.load(file_path)\n",
        "        if data.shape[1] == 25:\n",
        "            testdata.append(data)\n",
        "    testdata = np.vstack(testdata)\n",
        "\n",
        "    return tdata, testdata\n"
      ],
      "metadata": {
        "id": "tsuyDZSeA7It"
      },
      "execution_count": 74,
      "outputs": []
    },
    {
      "cell_type": "code",
      "source": [
        "class VAE(nn.Module):\n",
        "    def __init__(self, input_dim, latent_dim=16):\n",
        "        super(VAE, self).__init__()\n",
        "\n",
        "        # Encoder\n",
        "        self.encoder = nn.Sequential(\n",
        "            nn.Linear(input_dim, 128),\n",
        "            nn.ReLU(),\n",
        "            nn.Linear(128, 64),\n",
        "            nn.ReLU(),\n",
        "            nn.Linear(64, latent_dim * 2)\n",
        "        )\n",
        "\n",
        "        # Decoder\n",
        "        self.decoder = nn.Sequential(\n",
        "            nn.Linear(latent_dim, 64),\n",
        "            nn.ReLU(),\n",
        "            nn.Linear(64, 128),\n",
        "            nn.ReLU(),\n",
        "            nn.Linear(128, input_dim)\n",
        "        )\n",
        "\n",
        "    def reparameterize(self, mu, logvar):\n",
        "        std = torch.exp(0.5 * logvar)\n",
        "        eps = torch.randn_like(std)\n",
        "        return mu + eps * std\n",
        "\n",
        "    def forward(self, x):\n",
        "        x = x.view(x.size(0), -1)\n",
        "        z_params = self.encoder(x)\n",
        "        mu, logvar = z_params.chunk(2, dim=1)\n",
        "        z = self.reparameterize(mu, logvar)\n",
        "        x_recon = self.decoder(z)\n",
        "        return x_recon, mu, logvar"
      ],
      "metadata": {
        "id": "H6wSj_lUAtaN"
      },
      "execution_count": null,
      "outputs": []
    },
    {
      "cell_type": "code",
      "source": [
        "xtrain, xtest = load_nasa_data()\n",
        "\n",
        "print(\"Train Data Shape:\", X_train.shape)\n",
        "print(\"Test Data Shape:\", X_test.shape)\n",
        "\n",
        "\n",
        "def create_sliding_windows(data, window_size=100, step=10):\n",
        "    windows = [data[i:i+window_size] for i in range(0, data.shape[0] - window_size, step)]\n",
        "    return np.array(windows)\n",
        "\n",
        "trainwin = create_sliding_windows(xtrain, window_size=100, step=10)\n",
        "testwin = create_sliding_windows(xtest, window_size=100, step=10)\n",
        "\n",
        "\n",
        "\n",
        "def loss_function(recon_x, x, mu, logvar):\n",
        "    recon_loss = nn.MSELoss()(recon_x, x)\n",
        "    kl_divergence = -0.5 * torch.sum(1 + logvar - mu.pow(2) - logvar.exp())\n",
        "    return recon_loss + kl_divergence\n",
        "\n"
      ],
      "metadata": {
        "colab": {
          "base_uri": "https://localhost:8080/"
        },
        "id": "xIbSA93ReQHa",
        "outputId": "f59dac53-5582-4b62-e474-c13aa78f7489"
      },
      "execution_count": 75,
      "outputs": [
        {
          "output_type": "stream",
          "name": "stdout",
          "text": [
            "Train Data Shape: (138004, 25)\n",
            "Test Data Shape: (427186, 25)\n"
          ]
        }
      ]
    },
    {
      "cell_type": "code",
      "source": [
        "print(\"Train Windows Shape:\", trainwin.shape)\n",
        "print(\"Test Windows Shape:\", testwin.shape)\n",
        "\n",
        "traintensor = torch.tensor(trainwin, dtype=torch.float32)\n",
        "testtensor = torch.tensor(testwin, dtype=torch.float32)\n",
        "\n",
        "\n",
        "input_dim = trainwin.shape[1] * trainwin.shape[2]\n",
        "vae = VAE(input_dim=input_dim)"
      ],
      "metadata": {
        "colab": {
          "base_uri": "https://localhost:8080/"
        },
        "id": "hEzZ5ehrCkm3",
        "outputId": "c7464808-4862-4551-8ba0-c7cf60030369"
      },
      "execution_count": 76,
      "outputs": [
        {
          "output_type": "stream",
          "name": "stdout",
          "text": [
            "Train Windows Shape: (13791, 100, 25)\n",
            "Test Windows Shape: (42709, 100, 25)\n"
          ]
        }
      ]
    },
    {
      "cell_type": "code",
      "source": [
        "optimizer = optim.Adam(vae.parameters(), lr=0.001)\n",
        "\n",
        "\n",
        "num_epochs = 20\n",
        "batch_size = 64\n",
        "\n",
        "vae.train()\n",
        "for epoch in range(num_epochs):\n",
        "    permutation = torch.randperm(traintensor.size(0))\n",
        "\n",
        "    epoch_loss = 0\n",
        "    for i in range(0, traintensor.size(0), batch_size):\n",
        "        batch_indices = permutation[i:i+batch_size]\n",
        "        batch = traintensor[batch_indices]\n",
        "\n",
        "        batch = batch.view(batch.size(0), -1)\n",
        "\n",
        "        optimizer.zero_grad()\n",
        "        recon_batch, mu, logvar = vae(batch)\n",
        "        loss = loss_function(recon_batch, batch, mu, logvar)\n",
        "        loss.backward()\n",
        "        optimizer.step()\n",
        "\n",
        "        epoch_loss += loss.item()\n",
        "\n",
        "    print(f\"Epoch [{epoch+1}/{num_epochs}], Loss: {epoch_loss:.4f}\")"
      ],
      "metadata": {
        "colab": {
          "base_uri": "https://localhost:8080/"
        },
        "id": "ZiSRXasGCsQs",
        "outputId": "9bfe5667-c72c-42c7-a60f-d9cba5633946"
      },
      "execution_count": 77,
      "outputs": [
        {
          "output_type": "stream",
          "name": "stdout",
          "text": [
            "Epoch [1/20], Loss: 38.0491\n",
            "Epoch [2/20], Loss: 9.5378\n",
            "Epoch [3/20], Loss: 8.9227\n",
            "Epoch [4/20], Loss: 8.7494\n",
            "Epoch [5/20], Loss: 8.6768\n",
            "Epoch [6/20], Loss: 8.6297\n",
            "Epoch [7/20], Loss: 8.6104\n",
            "Epoch [8/20], Loss: 8.5964\n",
            "Epoch [9/20], Loss: 8.5850\n",
            "Epoch [10/20], Loss: 8.5758\n",
            "Epoch [11/20], Loss: 8.5724\n",
            "Epoch [12/20], Loss: 8.5642\n",
            "Epoch [13/20], Loss: 8.5698\n",
            "Epoch [14/20], Loss: 8.5640\n",
            "Epoch [15/20], Loss: 8.5585\n",
            "Epoch [16/20], Loss: 8.5588\n",
            "Epoch [17/20], Loss: 8.5560\n",
            "Epoch [18/20], Loss: 8.5538\n",
            "Epoch [19/20], Loss: 8.5513\n",
            "Epoch [20/20], Loss: 8.5566\n"
          ]
        }
      ]
    },
    {
      "cell_type": "code",
      "source": [
        "vae.eval()\n",
        "\n",
        "def detect_anomalies(test_data, threshold=0.05):\n",
        "    test_data = test_data.view(test_data.size(0), -1)\n",
        "    with torch.no_grad():\n",
        "        recon, _, _ = vae(test_data)\n",
        "        errors = torch.mean((recon - test_data) ** 2, dim=1)\n",
        "    return errors > threshold\n",
        "\n",
        "X_test_flat = testtensor.view(testtensor.size(0), -1)\n",
        "X_test_reconstructed, _, _ = vae(X_test_flat)\n",
        "reconstruction_errors = torch.mean((X_test_reconstructed - X_test_flat) ** 2, dim=1)\n",
        "\n",
        "threshold = torch.mean(reconstruction_errors) + 2 * torch.std(reconstruction_errors)\n",
        "\n",
        "y_pred = (reconstruction_errors > threshold).int().numpy()\n",
        "y_test = np.random.randint(0, 2, size=y_pred.shape)\n",
        "\n",
        "conf_matrix = confusion_matrix(y_test, y_pred)\n",
        "print(\"\\nConfusion Matrix:\\n\", conf_matrix)\n",
        "\n",
        "print(\"\\nClassification Report:\\n\", classification_report(y_test, y_pred))\n",
        "\n",
        "plt.figure(figsize=(6,5))\n",
        "sns.heatmap(conf_matrix, annot=True, fmt=\"d\", cmap=\"Blues\", xticklabels=[\"Normal\", \"Anomaly\"], yticklabels=[\"Normal\", \"Anomaly\"])\n",
        "plt.xlabel(\"Predicted\")\n",
        "plt.ylabel(\"Actual\")\n",
        "plt.title(\"Confusion Matrix\")\n",
        "plt.show()"
      ],
      "metadata": {
        "id": "Rf42FXHtC6PP"
      },
      "execution_count": null,
      "outputs": []
    },
    {
      "cell_type": "code",
      "source": [
        "torch.save(vae, \"NASA_VAE.pth\")"
      ],
      "metadata": {
        "id": "NQPd7lZ-3NKl"
      },
      "execution_count": 39,
      "outputs": []
    },
    {
      "cell_type": "code",
      "source": [
        "torch.save(vae.state_dict(), \"NASA_VAE_dict.pth\")"
      ],
      "metadata": {
        "id": "2qWSR9gr5h_h"
      },
      "execution_count": 41,
      "outputs": []
    },
    {
      "cell_type": "code",
      "source": [
        "import os\n",
        "import numpy as np\n",
        "import torch\n",
        "\n",
        "def detect_anomalies(test_files, dataset_path, vae, window_size=100, step=10, threshold_factor=2.55):\n",
        "\n",
        "    anomaly_results = {}\n",
        "\n",
        "    for file in test_files:\n",
        "        full_test_path = os.path.join(dataset_path, file)\n",
        "\n",
        "        if not os.path.exists(full_test_path):\n",
        "            print(f\"File not found: {full_test_path}\")\n",
        "            continue\n",
        "\n",
        "        data = np.load(full_test_path)\n",
        "        if data.shape[1] != 25:\n",
        "            print(f\"Skipping {file}: Shape {data.shape} does not match expected (timesteps, 25)\")\n",
        "            continue\n",
        "\n",
        "        windows = create_sliding_windows(data, window_size, step)\n",
        "\n",
        "        windows_tensor = torch.tensor(windows, dtype=torch.float32).view(windows.shape[0], -1)\n",
        "\n",
        "        with torch.no_grad():\n",
        "            reconstructions, _, _ = vae(windows_tensor)\n",
        "        mse = torch.mean((windows_tensor - reconstructions) ** 2, dim=1).detach().numpy()\n",
        "\n",
        "        threshold = np.mean(mse) + threshold_factor * np.std(mse)\n",
        "        anomalies = mse > threshold\n",
        "\n",
        "        anomaly_results[file] = anomalies.tolist()\n",
        "\n",
        "        print(f\"Processed {file}: {sum(anomalies)} anomalous windows detected.\")\n",
        "\n",
        "    return anomaly_results\n",
        "\n",
        "dataset_path = \"/content/drive/My Drive/NASA/data/test\"\n",
        "\n",
        "test_files = [f for f in os.listdir(dataset_path) if f.endswith(\".npy\")]\n",
        "print(\"Available test files:\", test_files)\n",
        "\n",
        "vae = torch.load(\"NASA_VAE.pth\", map_location=torch.device(\"cpu\"))\n",
        "vae.eval()\n",
        "\n",
        "anomaly_results = detect_anomalies(test_files, dataset_path, vae)\n"
      ],
      "metadata": {
        "colab": {
          "base_uri": "https://localhost:8080/"
        },
        "id": "X5K2afXY8mKY",
        "outputId": "7198adc9-7337-4a53-ecfe-033d644b6b33"
      },
      "execution_count": 79,
      "outputs": [
        {
          "output_type": "stream",
          "name": "stdout",
          "text": [
            "Available test files: ['A-6.npy', 'D-8.npy', 'A-9.npy', 'E-12.npy', 'A-5.npy', 'D-16.npy', 'E-3.npy', 'D-5.npy', 'E-11.npy', 'A-3.npy', 'E-10.npy', 'E-7.npy', 'E-1.npy', 'A-7.npy', 'D-9.npy', 'E-5.npy', 'E-6.npy', 'A-8.npy', 'B-1.npy', 'D-4.npy', 'E-13.npy', 'C-1.npy', 'C-2.npy', 'F-1.npy', 'E-8.npy', 'D-3.npy', 'D-15.npy', 'E-2.npy', 'D-7.npy', 'D-11.npy', 'D-2.npy', 'D-1.npy', 'D-6.npy', 'D-12.npy', 'D-13.npy', 'A-4.npy', 'E-9.npy', 'A-2.npy', 'D-14.npy', 'E-4.npy', 'G-3.npy', 'G-1.npy', 'F-7.npy', 'P-15.npy', 'T-10.npy', 'P-10.npy', 'S-2.npy', 'T-13.npy', 'T-1.npy', 'T-8.npy', 'T-9.npy', 'T-4.npy', 'F-3.npy', 'G-2.npy', 'M-3.npy', 'M-6.npy', 'P-2.npy', 'M-2.npy', 'S-1.npy', 'T-5.npy', 'F-4.npy', 'F-8.npy', 'M-5.npy', 'T-12.npy', 'G-6.npy', 'F-2.npy', 'G-7.npy', 'P-7.npy', 'P-11.npy', 'R-1.npy', 'M-1.npy', 'M-7.npy', 'P-14.npy', 'P-1.npy', 'F-5.npy', 'G-4.npy', 'P-3.npy', 'T-3.npy', 'T-2.npy', 'M-4.npy', 'P-4.npy']\n",
            "Processed A-6.npy: 10 anomalous windows detected.\n",
            "Processed D-8.npy: 30 anomalous windows detected.\n",
            "Processed A-9.npy: 19 anomalous windows detected.\n",
            "Processed E-12.npy: 0 anomalous windows detected.\n"
          ]
        },
        {
          "output_type": "stream",
          "name": "stderr",
          "text": [
            "<ipython-input-79-9a265af92f7c>:43: FutureWarning: You are using `torch.load` with `weights_only=False` (the current default value), which uses the default pickle module implicitly. It is possible to construct malicious pickle data which will execute arbitrary code during unpickling (See https://github.com/pytorch/pytorch/blob/main/SECURITY.md#untrusted-models for more details). In a future release, the default value for `weights_only` will be flipped to `True`. This limits the functions that could be executed during unpickling. Arbitrary objects will no longer be allowed to be loaded via this mode unless they are explicitly allowlisted by the user via `torch.serialization.add_safe_globals`. We recommend you start setting `weights_only=True` for any use case where you don't have full control of the loaded file. Please open an issue on GitHub for any issues related to this experimental feature.\n",
            "  vae = torch.load(\"NASA_VAE.pth\", map_location=torch.device(\"cpu\"))\n"
          ]
        },
        {
          "output_type": "stream",
          "name": "stdout",
          "text": [
            "Processed A-5.npy: 0 anomalous windows detected.\n",
            "Skipping D-16.npy: Shape (2191, 55) does not match expected (timesteps, 25)\n",
            "Processed E-3.npy: 0 anomalous windows detected.\n",
            "Processed D-5.npy: 7 anomalous windows detected.\n",
            "Processed E-11.npy: 0 anomalous windows detected.\n",
            "Processed A-3.npy: 1 anomalous windows detected.\n",
            "Processed E-10.npy: 0 anomalous windows detected.\n",
            "Processed E-7.npy: 0 anomalous windows detected.\n",
            "Processed E-1.npy: 0 anomalous windows detected.\n",
            "Processed A-7.npy: 33 anomalous windows detected.\n",
            "Processed D-9.npy: 4 anomalous windows detected.\n",
            "Processed E-5.npy: 3 anomalous windows detected.\n",
            "Processed E-6.npy: 0 anomalous windows detected.\n",
            "Processed A-8.npy: 10 anomalous windows detected.\n",
            "Processed B-1.npy: 0 anomalous windows detected.\n",
            "Processed D-4.npy: 7 anomalous windows detected.\n",
            "Processed E-13.npy: 2 anomalous windows detected.\n",
            "Skipping C-1.npy: Shape (2264, 55) does not match expected (timesteps, 25)\n",
            "Skipping C-2.npy: Shape (2051, 55) does not match expected (timesteps, 25)\n",
            "Processed F-1.npy: 49 anomalous windows detected.\n",
            "Processed E-8.npy: 13 anomalous windows detected.\n",
            "Processed D-3.npy: 9 anomalous windows detected.\n",
            "Skipping D-15.npy: Shape (2158, 55) does not match expected (timesteps, 25)\n",
            "Processed E-2.npy: 13 anomalous windows detected.\n",
            "Processed D-7.npy: 14 anomalous windows detected.\n",
            "Processed D-11.npy: 0 anomalous windows detected.\n",
            "Processed D-2.npy: 0 anomalous windows detected.\n",
            "Processed D-1.npy: 7 anomalous windows detected.\n",
            "Processed D-6.npy: 9 anomalous windows detected.\n",
            "Processed D-12.npy: 9 anomalous windows detected.\n",
            "Processed D-13.npy: 0 anomalous windows detected.\n",
            "Processed A-4.npy: 0 anomalous windows detected.\n",
            "Processed E-9.npy: 7 anomalous windows detected.\n",
            "Processed A-2.npy: 3 anomalous windows detected.\n",
            "Skipping D-14.npy: Shape (2625, 55) does not match expected (timesteps, 25)\n",
            "Processed E-4.npy: 3 anomalous windows detected.\n",
            "Processed G-3.npy: 2 anomalous windows detected.\n",
            "Processed G-1.npy: 8 anomalous windows detected.\n",
            "Skipping F-7.npy: Shape (5054, 55) does not match expected (timesteps, 25)\n",
            "Skipping P-15.npy: Shape (2856, 55) does not match expected (timesteps, 25)\n",
            "Skipping T-10.npy: Shape (670, 55) does not match expected (timesteps, 25)\n",
            "Skipping P-10.npy: Shape (6100, 55) does not match expected (timesteps, 25)\n",
            "Skipping S-2.npy: Shape (1827, 55) does not match expected (timesteps, 25)\n",
            "Skipping T-13.npy: Shape (2430, 55) does not match expected (timesteps, 25)\n",
            "Processed T-1.npy: 16 anomalous windows detected.\n",
            "Skipping T-8.npy: Shape (1519, 55) does not match expected (timesteps, 25)\n",
            "Skipping T-9.npy: Shape (1096, 55) does not match expected (timesteps, 25)\n",
            "Skipping T-4.npy: Shape (2217, 55) does not match expected (timesteps, 25)\n",
            "Processed F-3.npy: 2 anomalous windows detected.\n",
            "Processed G-2.npy: 3 anomalous windows detected.\n",
            "Skipping M-3.npy: Shape (2127, 55) does not match expected (timesteps, 25)\n",
            "Skipping M-6.npy: Shape (2049, 55) does not match expected (timesteps, 25)\n",
            "Processed P-2.npy: 2 anomalous windows detected.\n",
            "Skipping M-2.npy: Shape (2277, 55) does not match expected (timesteps, 25)\n",
            "Processed S-1.npy: 0 anomalous windows detected.\n",
            "Skipping T-5.npy: Shape (2218, 55) does not match expected (timesteps, 25)\n",
            "Skipping F-4.npy: Shape (3422, 55) does not match expected (timesteps, 25)\n",
            "Skipping F-8.npy: Shape (2487, 55) does not match expected (timesteps, 25)\n",
            "Skipping M-5.npy: Shape (2303, 55) does not match expected (timesteps, 25)\n",
            "Skipping T-12.npy: Shape (2430, 55) does not match expected (timesteps, 25)\n",
            "Processed G-6.npy: 0 anomalous windows detected.\n",
            "Processed F-2.npy: 37 anomalous windows detected.\n",
            "Processed G-7.npy: 42 anomalous windows detected.\n",
            "Processed P-7.npy: 39 anomalous windows detected.\n",
            "Skipping P-11.npy: Shape (3535, 55) does not match expected (timesteps, 25)\n",
            "Processed R-1.npy: 38 anomalous windows detected.\n",
            "Skipping M-1.npy: Shape (2277, 55) does not match expected (timesteps, 25)\n",
            "Skipping M-7.npy: Shape (2156, 55) does not match expected (timesteps, 25)\n",
            "Skipping P-14.npy: Shape (6100, 55) does not match expected (timesteps, 25)\n",
            "Processed P-1.npy: 4 anomalous windows detected.\n",
            "Skipping F-5.npy: Shape (3922, 55) does not match expected (timesteps, 25)\n",
            "Processed G-4.npy: 6 anomalous windows detected.\n",
            "Processed P-3.npy: 2 anomalous windows detected.\n",
            "Processed T-3.npy: 35 anomalous windows detected.\n",
            "Processed T-2.npy: 25 anomalous windows detected.\n",
            "Skipping M-4.npy: Shape (2038, 55) does not match expected (timesteps, 25)\n",
            "Processed P-4.npy: 53 anomalous windows detected.\n"
          ]
        }
      ]
    },
    {
      "cell_type": "code",
      "source": [],
      "metadata": {
        "id": "N27FKcf671cB"
      },
      "execution_count": null,
      "outputs": []
    }
  ]
}